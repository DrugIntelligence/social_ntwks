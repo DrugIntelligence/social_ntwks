{
 "metadata": {
  "name": "",
  "signature": "sha256:2888f5b698a6c70f2317f05121afc61262b86b4b413207c92cd1d076f040607f"
 },
 "nbformat": 3,
 "nbformat_minor": 0,
 "worksheets": [
  {
   "cells": [
    {
     "cell_type": "heading",
     "level": 1,
     "metadata": {},
     "source": [
      "Node and Link analysis: Centrality measures"
     ]
    },
    {
     "cell_type": "markdown",
     "metadata": {},
     "source": [
      "Centrality measures are used to appraise the \"importance\" of the elements of the network. The problem is that \"importance\"\n",
      "* Is not well-defined\n",
      "* Depends on the domain of the network\n",
      "\n",
      "During this seminar we will consider two node centrality measures: *degree centrality* and *closeness centrality*"
     ]
    },
    {
     "cell_type": "heading",
     "level": 2,
     "metadata": {},
     "source": [
      "Degree Centrality"
     ]
    },
    {
     "cell_type": "markdown",
     "metadata": {},
     "source": [
      "In fact you have already met the degree centrality in this course. \n",
      "\n",
      "Given adjacency matrix $A$ of the **unweighted** and **undirected** graph $G = (V,E)$ degree centrality of the node $v_i$ is computed as:\n",
      "$$ C_D(i) = \\sum_j A_{ji} $$\n",
      "In order to compare nodes across graphs this measure can be normalized by a factor $\\frac{1}{N-1}$\n",
      "\n"
     ]
    },
    {
     "cell_type": "heading",
     "level": 2,
     "metadata": {},
     "source": [
      "Closeness Centrality"
     ]
    },
    {
     "cell_type": "markdown",
     "metadata": {},
     "source": [
      "The most correspondent to the word \"central\". Closeness centrality is used to identify nodes that can reach other nodes quickly.\n",
      "$$ C_C(i) = \\left[ \\sum_{j,\\ j\\neq i} d(v_i, v_j) \\right]^{-1}\\text{,} $$\n",
      "where $d(v_i, v_j)$ is a length of the shortest path between $v_i$ and $v_j$. Again, to be normalized it is multiplied by $(N-1)$."
     ]
    },
    {
     "cell_type": "heading",
     "level": 2,
     "metadata": {},
     "source": [
      "Why?"
     ]
    },
    {
     "cell_type": "markdown",
     "metadata": {},
     "source": [
      "Centralities allow us to\n",
      "* Understand the structure of the graph without looking at it\n",
      "* Compare nodes of a graph (between graphs) and identify the most \"important\"\n",
      "* Compare graphs*"
     ]
    },
    {
     "cell_type": "code",
     "collapsed": false,
     "input": [
      "import numpy as np\n",
      "import matplotlib.pyplot as plt\n",
      "plt.xkcd()\n",
      "import networkx as nx\n",
      "%matplotlib inline"
     ],
     "language": "python",
     "metadata": {},
     "outputs": []
    },
    {
     "cell_type": "heading",
     "level": 2,
     "metadata": {},
     "source": [
      "Example: Zachary's Karate Club"
     ]
    },
    {
     "cell_type": "markdown",
     "metadata": {},
     "source": [
      "Let's load Zachary's Karate Club network. This is quite small example so we can both calculate centralities and map them of the picture of the graph"
     ]
    },
    {
     "cell_type": "code",
     "collapsed": false,
     "input": [
      "G = nx.karate_club_graph()\n",
      "pos = nx.spring_layout(G) # Fix node positions on all pictures"
     ],
     "language": "python",
     "metadata": {},
     "outputs": []
    },
    {
     "cell_type": "code",
     "collapsed": false,
     "input": [
      "# Start your code here..\n",
      "\n"
     ],
     "language": "python",
     "metadata": {},
     "outputs": []
    },
    {
     "cell_type": "heading",
     "level": 2,
     "metadata": {},
     "source": [
      "Power Grid Network"
     ]
    },
    {
     "cell_type": "markdown",
     "metadata": {},
     "source": [
      "Download Power Grid network from [here](http://networkdata.ics.uci.edu/data/power/). Perform the same analysis.. And maybe more..\n"
     ]
    },
    {
     "cell_type": "code",
     "collapsed": false,
     "input": [
      "# Place for your code...\n",
      "\n"
     ],
     "language": "python",
     "metadata": {},
     "outputs": []
    }
   ],
   "metadata": {}
  }
 ]
}