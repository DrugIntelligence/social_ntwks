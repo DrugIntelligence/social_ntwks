{
 "metadata": {
  "name": "",
  "signature": "sha256:390ed9d3b05da87f7014012f4322f0dfee271a66f5306f3ff1b0c24830eec366"
 },
 "nbformat": 3,
 "nbformat_minor": 0,
 "worksheets": [
  {
   "cells": [
    {
     "cell_type": "heading",
     "level": 1,
     "metadata": {},
     "source": [
      "Power Law"
     ]
    },
    {
     "cell_type": "code",
     "collapsed": false,
     "input": [
      "import numpy as np\n",
      "import matplotlib.pyplot as plt\n",
      "plt.xkcd()\n",
      "import numpy.random as rnd\n",
      "%matplotlib inline"
     ],
     "language": "python",
     "metadata": {},
     "outputs": []
    },
    {
     "cell_type": "heading",
     "level": 3,
     "metadata": {},
     "source": [
      "Generating Power Law Distribution"
     ]
    },
    {
     "cell_type": "markdown",
     "metadata": {},
     "source": [
      "So, the pdf of the power law distribution is $$ p(x) = Cx^{-\\alpha}\\text{, } $$ where $C$ is normalization constant and $\\alpha>0$ is called as exponent of the distribution. \n",
      "\n",
      "From the lecture we know that (unless seminar starts before. If it is so, let's derive...)$$C = \\frac{\\alpha - 1}{x_{\\text{min}}^{- \\alpha + 1}}.$$ Let's try to generate power law random variable *(and pretend we don't know np.pareto() )*."
     ]
    },
    {
     "cell_type": "markdown",
     "metadata": {},
     "source": [
      "**EXERCISE 1** \n",
      "\n",
      "The first step is to derive cdf for powel law: $F(x) = P(X \\leq x)$\n",
      "\n",
      "$$ F(x) = 1 - \\int_{x}^\\infty p(t) dt$$\n",
      "\n",
      "(here some random student goes to the whiteboard...)"
     ]
    },
    {
     "cell_type": "code",
     "collapsed": false,
     "input": [
      "numStud = 10\n",
      "print 'Student {0:2.0f} is going to the whiteboard'.format(np.round(rnd.random()*(numStud-1) + 1))"
     ],
     "language": "python",
     "metadata": {},
     "outputs": []
    },
    {
     "cell_type": "markdown",
     "metadata": {},
     "source": [
      "**SOLUTION**"
     ]
    },
    {
     "cell_type": "markdown",
     "metadata": {},
     "source": [
      "$$F(x) = 1 - (\\frac{x}{x_\\text{min}})^{ - \\alpha + 1} $$"
     ]
    },
    {
     "cell_type": "markdown",
     "metadata": {},
     "source": [
      "**EXERCISE 2**\n",
      "\n",
      "If we define a random variable $R$, s.t. $R = F(X)$, then $R$ will be uniformly distributed on interval [0, 1].\n",
      "\n",
      "Good thing here is that we easily can generate uniformly distributed pseudorandom numbers. Let's find an expression for $x = F^{-1}(r)$."
     ]
    },
    {
     "cell_type": "markdown",
     "metadata": {},
     "source": [
      "**SOLUTION**"
     ]
    },
    {
     "cell_type": "markdown",
     "metadata": {},
     "source": [
      "$$x = (1 - r)^{\\frac{-1}{\\alpha - 1}} x_\\text{min} $$"
     ]
    },
    {
     "cell_type": "markdown",
     "metadata": {},
     "source": [
      "**EXERCISE 3**\n",
      "\n",
      "    1. Generate 10000 uniformly distributed pseudorandom numbers. Set alpha-1 = - 2.5 and x_min = 1\n",
      "    2. Produce power law!\n",
      "    3. Plot histogram of the results (instead of using plt.histogram() use np.histogram( ,bins = 5000 ))\n",
      "    4. See something unpleasant?"
     ]
    },
    {
     "cell_type": "code",
     "collapsed": false,
     "input": [
      "# Write your code here..\n",
      "#\n",
      "#"
     ],
     "language": "python",
     "metadata": {},
     "outputs": []
    },
    {
     "cell_type": "heading",
     "level": 2,
     "metadata": {},
     "source": [
      "Exponent Estimation"
     ]
    },
    {
     "cell_type": "markdown",
     "metadata": {},
     "source": [
      "**EXERCISE 4**\n",
      "\n",
      "Given the results you've obtained in the previous section, try to estimate $\\alpha$ via Linear Regression (don't forget to take $\\log$)"
     ]
    },
    {
     "cell_type": "code",
     "collapsed": false,
     "input": [
      "# Write your code here..\n",
      "#\n",
      "#"
     ],
     "language": "python",
     "metadata": {},
     "outputs": []
    },
    {
     "cell_type": "markdown",
     "metadata": {},
     "source": [
      "Probably, you won't be satisfied with the results.. Btw, why?\n",
      "\n",
      "Thankfully, there are some options to solve the problem:\n",
      "\n",
      "    1. Exponential binning\n",
      "    2. CDF estimation\n",
      "    3. Likelyhood estimation\n",
      "    \n",
      "During the seminar we will work with 1 (and maybe 2)."
     ]
    },
    {
     "cell_type": "markdown",
     "metadata": {},
     "source": [
      "**EXERCISE 5**\n",
      "\n",
      "Perform exponential binning, that is, instead of using uniformal bins, spread them with log-scaling\n",
      "\n",
      "** hint: use use *np.logspace()* **"
     ]
    },
    {
     "cell_type": "code",
     "collapsed": false,
     "input": [
      "# Write your code here..\n",
      "#\n",
      "#"
     ],
     "language": "python",
     "metadata": {},
     "outputs": []
    }
   ],
   "metadata": {}
  }
 ]
}