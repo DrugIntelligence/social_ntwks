{
 "metadata": {
  "name": "",
  "signature": "sha256:2edfdfa6dd0a56f7cd35e498ecb00c7782800ea239cda9a136469b6265070a6f"
 },
 "nbformat": 3,
 "nbformat_minor": 0,
 "worksheets": [
  {
   "cells": [
    {
     "cell_type": "heading",
     "level": 1,
     "metadata": {},
     "source": [
      "Network Models: Small World"
     ]
    },
    {
     "cell_type": "code",
     "collapsed": false,
     "input": [
      "import numpy as np\n",
      "import matplotlib.pyplot as plt\n",
      "plt.xkcd()\n",
      "import networkx as nx\n",
      "%matplotlib inline"
     ],
     "language": "python",
     "metadata": {},
     "outputs": []
    },
    {
     "cell_type": "markdown",
     "metadata": {},
     "source": [
      "During this seminar we will work with **Watts and Strogatz model**.\n",
      "Again, the idea of the model:\n",
      "\n",
      "1. Start with regular lattice with N nodes, K nearest neighbours\n",
      "2. For each node take every edge and rewire it with probability $p$, assuming that there is no loops and edge duplications"
     ]
    },
    {
     "cell_type": "heading",
     "level": 5,
     "metadata": {},
     "source": [
      "Task"
     ]
    },
    {
     "cell_type": "markdown",
     "metadata": {},
     "source": [
      " 1. Implement *rewind(G, p)* function that takes graph G and probability p as input.\n",
      " 2. Run experiments for various values of p, compute and show \n",
      "     * average path length \n",
      "     * clustering coefficients (transitivity) \n",
      "     * degree distribution"
     ]
    },
    {
     "cell_type": "code",
     "collapsed": false,
     "input": [
      "def gen_regular_graph(n, k):\n",
      "    G = nx.Graph()\n",
      "    nodes = list(range(n))\n",
      "    for j in range(1, k // 2+1):\n",
      "        targets = nodes[j:] + nodes[0:j] # first j nodes are now last in list\n",
      "        G.add_edges_from(zip(nodes,targets))\n",
      "    return G\n",
      "\n",
      "def degree_distr(k, bins = 100):\n",
      "    yh, binEdges = np.histogram(k, bins)\n",
      "    bincenters = 0.5*(binEdges[1:]+binEdges[:-1])\n",
      "    return yh, bincenters"
     ],
     "language": "python",
     "metadata": {},
     "outputs": []
    }
   ],
   "metadata": {}
  }
 ]
}