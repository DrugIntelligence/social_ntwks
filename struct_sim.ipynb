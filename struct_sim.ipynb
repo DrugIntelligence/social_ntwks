{
 "metadata": {
  "name": "",
  "signature": "sha256:5b2447fbbfa7dcc4b5baf392bf3db26c0b39653050b490da6d11eddc5a03e7e6"
 },
 "nbformat": 3,
 "nbformat_minor": 0,
 "worksheets": [
  {
   "cells": [
    {
     "cell_type": "heading",
     "level": 1,
     "metadata": {},
     "source": [
      "Structural Similarity"
     ]
    },
    {
     "cell_type": "markdown",
     "metadata": {},
     "source": [
      "During this seminar we will:\n",
      "1. Consider some node similarity measures, particularly *Euclidean Distance*, *Correlation Coefficient* and *Cosine Distance*\n",
      "2. Take a look at *[Cuthill-McKee](http://en.wikipedia.org/wiki/Cuthill%E2%80%93McKee_algorithm)* node reordering procedure\n",
      "3. Calculate *Assortative mixing coefficient* for some **[Game Of Thrones](http://cdn.meme.am/instances/55597956.jpg)** network"
     ]
    },
    {
     "cell_type": "code",
     "collapsed": false,
     "input": [
      "import numpy as np\n",
      "import pandas as pd\n",
      "import scipy.spatial as spt\n",
      "import matplotlib.pyplot as plt\n",
      "plt.xkcd()\n",
      "import networkx as nx\n",
      "%matplotlib inline"
     ],
     "language": "python",
     "metadata": {},
     "outputs": []
    },
    {
     "cell_type": "heading",
     "level": 3,
     "metadata": {},
     "source": [
      "Task 1 - Similarities Calculation"
     ]
    },
    {
     "cell_type": "markdown",
     "metadata": {},
     "source": [
      "1. Calculate *Euclidean Distance*, *Correlation Coefficient* and *Cosine Distance* for some toy-network (Zachary again?) and for [Les Miserables](http://www-personal.umich.edu/~mejn/netdata/lesmis.zip) dataset\n",
      "2. Visualize them\n",
      "\n",
      "**HINT:**\n",
      "For correlation coeficient you can use *np.corrcoef()*, for the distances you may implement them on your own or use *scipy.spatial.distance.pdist()*"
     ]
    },
    {
     "cell_type": "code",
     "collapsed": false,
     "input": [
      "# Put your code here..\n",
      "#\n",
      "#\n"
     ],
     "language": "python",
     "metadata": {},
     "outputs": []
    },
    {
     "cell_type": "heading",
     "level": 3,
     "metadata": {},
     "source": [
      "Task 2 - Node Reordering"
     ]
    },
    {
     "cell_type": "markdown",
     "metadata": {},
     "source": [
      "Without special preprocess procidures graph adjacency matrix can look very noisy and hide network's structure (just look at the matrices above). Offcourse usually you don't know the structure itself (communities, groups of closelly connected nodes, etc.) unless it is given, however there are some procedures of node reordering that provides a better view of the network's adjacency matrix.\n",
      "\n",
      "*[Recerse Cuthill-McKee](http://en.wikipedia.org/wiki/Cuthill%E2%80%93McKee_algorithm)* finds permutation of the nodes that minimizes the **bandwidth** of the matrix, which is calculated as:\n",
      "$$ \\theta = \\max_{a_{ij} > 0}|i-j|$$\n",
      "Unformally, this algorithm puts some *mass* on the diagonal of adjacency matrix.\n",
      "\n",
      "Run this reordering with *nx.utils.reverse_cuthill_mckee_ordering(G)* and compare with the results above"
     ]
    },
    {
     "cell_type": "code",
     "collapsed": false,
     "input": [
      "# Put your code here\n",
      "#\n",
      "#\n"
     ],
     "language": "python",
     "metadata": {},
     "outputs": []
    },
    {
     "cell_type": "heading",
     "level": 3,
     "metadata": {},
     "source": [
      "Task 3 - Assortative Mixing"
     ]
    },
    {
     "cell_type": "markdown",
     "metadata": {},
     "source": [
      "For this task you should download some data, convert it to network and calculate assortative mixing coefficient. Particularly, download [*characters*](https://www.dropbox.com/s/cmenu2mo20ow9ep/characters.csv?dl=0) and [*events*](https://www.dropbox.com/s/rgooboda819cvuk/events.csv?dl=0) datasets.\n",
      "\n",
      "The first dataset provides information on characters of the Game Of Thrones universe. The second one -- describes some events that have occured with them during the story. We are interested about **kill** events since they can be considered as binary relations and consequently -- graphs. \n",
      "The attribute wrt which we are going to compute assortative mixing is called \"Team\".\n",
      "\n",
      "We will explore datasets with *pandas* module. The list of usefull functions:\n",
      "* read_csv()\n",
      "* characters.head()\n",
      "* dropna\n",
      "* set_index('characterID')['Team'].to_dict()\n",
      "* events[events['event'] == 'killed']"
     ]
    },
    {
     "cell_type": "code",
     "collapsed": false,
     "input": [
      "# Put your code here\n",
      "#\n",
      "#"
     ],
     "language": "python",
     "metadata": {},
     "outputs": []
    }
   ],
   "metadata": {}
  }
 ]
}