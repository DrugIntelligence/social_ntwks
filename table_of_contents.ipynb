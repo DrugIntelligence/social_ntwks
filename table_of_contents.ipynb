{
 "metadata": {
  "name": "",
  "signature": "sha256:bce59b8747f6984b6552539413a53b8c33cc4026318d226f9017c7cb8e8e7a3b"
 },
 "nbformat": 3,
 "nbformat_minor": 0,
 "worksheets": [
  {
   "cells": [
    {
     "cell_type": "heading",
     "level": 1,
     "metadata": {},
     "source": [
      "<center>Structural Analysis and Visualization of Networks</center>"
     ]
    },
    {
     "cell_type": "markdown",
     "metadata": {},
     "source": [
      "<center>Course web-page: http://www.leonidzhukov.net/hse/2015/networks/</center>\n",
      "<hr />"
     ]
    },
    {
     "cell_type": "heading",
     "level": 2,
     "metadata": {},
     "source": [
      "Table of Contents"
     ]
    },
    {
     "cell_type": "heading",
     "level": 3,
     "metadata": {},
     "source": [
      "Module 4"
     ]
    },
    {
     "cell_type": "heading",
     "level": 4,
     "metadata": {},
     "source": [
      "Labs"
     ]
    },
    {
     "cell_type": "heading",
     "level": 5,
     "metadata": {},
     "source": [
      "[1. Random Walk Modelling [2015.03.31]](http://nbviewer.ipython.org/github/shestakoff/social_ntwks/blob/master/random_walk.ipynb)\n",
      "<br />\n",
      "<br />\n",
      "[2. Epidemics [2015.04.07]](http://nbviewer.ipython.org/github/shestakoff/social_ntwks/blob/master/epidemics.ipynb)\n",
      "<br />\n",
      "<br />"
     ]
    },
    {
     "cell_type": "markdown",
     "metadata": {},
     "source": [
      "<hr />"
     ]
    },
    {
     "cell_type": "heading",
     "level": 3,
     "metadata": {},
     "source": [
      "Module 3"
     ]
    },
    {
     "cell_type": "heading",
     "level": 4,
     "metadata": {},
     "source": [
      "*[Results (updated 2015.03.28)](https://drive.google.com/file/d/0B0QWEJMlsxfRalNpSUQzdWhUNGM/view?usp=sharing)*"
     ]
    },
    {
     "cell_type": "heading",
     "level": 4,
     "metadata": {},
     "source": [
      "Labs"
     ]
    },
    {
     "cell_type": "heading",
     "level": 5,
     "metadata": {},
     "source": [
      "[1. Setting up your environment [2015.01.15]](http://nbviewer.ipython.org/github/shestakoff/social_ntwks/blob/master/setting_envrmt.ipynb)\n",
      "<br />\n",
      "<br />\n",
      "[2. Power Law [2015.01.20]](http://nbviewer.ipython.org/github/shestakoff/social_ntwks/blob/master/power_law.ipynb)\n",
      "<br />\n",
      "<br />\n",
      "[3. Random models [2015.01.27]](http://nbviewer.ipython.org/github/shestakoff/social_ntwks/blob/master/rand_graph.ipynb)\n",
      "<br />\n",
      "<br />\n",
      "[4. Small world models [2015.02.03]](http://nbviewer.ipython.org/github/shestakoff/social_ntwks/blob/master/small_world_model.ipynb)\n",
      "<br />\n",
      "<br />\n",
      "[5. Centralities [2015.02.10]](http://nbviewer.ipython.org/github/shestakoff/social_ntwks/blob/master/centralities.ipynb)\n",
      "<br />\n",
      "<br />\n",
      "[6. Page Rank and HITS [2015.02.17]](http://nbviewer.ipython.org/github/shestakoff/social_ntwks/blob/master/page_rank_hits.ipynb)\n",
      "<br />\n",
      "<br />\n",
      "[7. Structural Similarity [2015.02.24]](http://nbviewer.ipython.org/github/shestakoff/social_ntwks/blob/master/struct_sim.ipynb)\n",
      "<br />\n",
      "<br />\n",
      "[8. Dense Subgroups in Networks and Motif counting [2015.03.03]](http://nbviewer.ipython.org/github/shestakoff/social_ntwks/blob/master/dense_motifs.ipynb)\n",
      "<br />\n",
      "<br />\n",
      "[9. Community detection algorithms [2015.03.10]](http://nbviewer.ipython.org/github/shestakoff/social_ntwks/blob/master/communities.ipynb)\n",
      "<br />\n",
      "<br />\n",
      "[10. Community detection algorithms pt 2 [2015.03.17]](http://nbviewer.ipython.org/github/shestakoff/social_ntwks/blob/master/communities_2.ipynb)"
     ]
    },
    {
     "cell_type": "heading",
     "level": 4,
     "metadata": {},
     "source": [
      "Tutorials"
     ]
    },
    {
     "cell_type": "heading",
     "level": 5,
     "metadata": {},
     "source": [
      "[1. Loading your social network data](http://nbviewer.ipython.org/github/shestakoff/social_ntwks/blob/master/vk_api.ipynb)\n",
      "<br />\n",
      "<br />"
     ]
    },
    {
     "cell_type": "heading",
     "level": 4,
     "metadata": {},
     "source": [
      "\n",
      "Home Assignments"
     ]
    },
    {
     "cell_type": "heading",
     "level": 6,
     "metadata": {},
     "source": [
      "[1. Power Law [Due date 2015.01.28]](http://nbviewer.ipython.org/github/shestakoff/social_ntwks/blob/master/networks_ha1.ipynb)\n",
      "<br />\n",
      "<br />\n",
      "[2. Network models [Due date 2015.02.18]](http://nbviewer.ipython.org/github/shestakoff/social_ntwks/blob/master/networks_ha2.ipynb)\n",
      "<br />\n",
      "<br />\n",
      "[3. Centralities and Assortativity [Due date 2015.03.09]](http://nbviewer.ipython.org/github/shestakoff/social_ntwks/blob/master/networks_ha3.ipynb)\n",
      "<br />\n",
      "<br />\n",
      "[4. Community Detection Algorithms [Due date 2015.03.19]](http://nbviewer.ipython.org/github/shestakoff/social_ntwks/blob/master/networks_ha4.ipynb)\n",
      "<br />\n",
      "<br />\n"
     ]
    }
   ],
   "metadata": {}
  }
 ]
}