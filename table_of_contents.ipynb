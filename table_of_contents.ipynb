{
 "metadata": {
  "name": "",
  "signature": "sha256:044cd0b2c67139d6ff554ab5d819a7adcede487609de795cc8ee9f005bc2d5b8"
 },
 "nbformat": 3,
 "nbformat_minor": 0,
 "worksheets": [
  {
   "cells": [
    {
     "cell_type": "heading",
     "level": 1,
     "metadata": {},
     "source": [
      "Structural Analysis and Visualization of Networks"
     ]
    },
    {
     "cell_type": "markdown",
     "metadata": {},
     "source": [
      "Course web-page: http://www.leonidzhukov.net/hse/2015/networks/"
     ]
    },
    {
     "cell_type": "heading",
     "level": 2,
     "metadata": {},
     "source": [
      "Table of Contents:"
     ]
    },
    {
     "cell_type": "heading",
     "level": 3,
     "metadata": {},
     "source": [
      "Labs"
     ]
    },
    {
     "cell_type": "heading",
     "level": 4,
     "metadata": {},
     "source": [
      "[1. Setting up your environment [2015.01.15]](http://nbviewer.ipython.org/github/shestakoff/social_ntwks/blob/master/setting_envrmt.ipynb)\n",
      "<br />\n",
      "<br />\n",
      "[2. Power Law [2015.01.20]](http://nbviewer.ipython.org/github/shestakoff/social_ntwks/blob/master/power_law.ipynb)\n",
      "<br />\n",
      "<br />\n",
      "[3. Random models [2015.01.27]](http://nbviewer.ipython.org/github/shestakoff/social_ntwks/blob/master/rand_graph.ipynb)\n",
      "<br />\n",
      "<br />\n",
      "[4. Small world models [2015.02.03]](http://nbviewer.ipython.org/github/shestakoff/social_ntwks/blob/master/small_world_model.ipynb)\n",
      "<br />\n",
      "<br />\n",
      "[5. Centralities [2015.02.10]](http://nbviewer.ipython.org/github/shestakoff/social_ntwks/blob/master/centralities.ipynb)\n",
      "<br />\n",
      "<br />\n",
      "[6. Page Rank and HITS [2015.02.17]](http://nbviewer.ipython.org/github/shestakoff/social_ntwks/blob/master/page_rank_hits.ipynb)"
     ]
    },
    {
     "cell_type": "heading",
     "level": 3,
     "metadata": {},
     "source": [
      "\n",
      "Home Assignments"
     ]
    },
    {
     "cell_type": "heading",
     "level": 4,
     "metadata": {},
     "source": [
      "*[Results (updated 2015.02.17)](https://drive.google.com/file/d/0B0QWEJMlsxfRalNpSUQzdWhUNGM/view?usp=sharing)*\n",
      "<br />\n",
      "<br />\n",
      "<br />\n",
      "<br />\n",
      "[1. Power Law [Due date 2015.01.28]](http://nbviewer.ipython.org/github/shestakoff/social_ntwks/blob/master/networks_ha1.ipynb)\n",
      "<br />\n",
      "<br />\n",
      "[2. Network models [Due date 2015.02.18]](http://nbviewer.ipython.org/github/shestakoff/social_ntwks/blob/master/networks_ha2.ipynb)\n",
      "<br />\n",
      "<br />\n"
     ]
    }
   ],
   "metadata": {}
  }
 ]
}