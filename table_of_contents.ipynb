{
 "metadata": {
  "name": "",
  "signature": "sha256:3cf0d5682d1c1c9a1723c93af6b162b688af34beabab322812be6c1070ab7fd4"
 },
 "nbformat": 3,
 "nbformat_minor": 0,
 "worksheets": [
  {
   "cells": [
    {
     "cell_type": "heading",
     "level": 1,
     "metadata": {},
     "source": [
      "Structural Analysis and Visualization of Networks"
     ]
    },
    {
     "cell_type": "markdown",
     "metadata": {},
     "source": [
      "Course web-page: http://www.leonidzhukov.net/hse/2015/networks/"
     ]
    },
    {
     "cell_type": "heading",
     "level": 2,
     "metadata": {},
     "source": [
      "Table of Contents:"
     ]
    },
    {
     "cell_type": "heading",
     "level": 3,
     "metadata": {},
     "source": [
      "[1. Setting up your environment [2015.01.15]](http://nbviewer.ipython.org/github/shestakoff/social_ntwks/blob/master/setting_envrmt.ipynb)\n",
      "<br />\n",
      "<br />\n",
      "[2. Power Laws [2015.01.20]](http://nbviewer.ipython.org/github/shestakoff/social_ntwks/blob/master/power_law.ipynb)"
     ]
    }
   ],
   "metadata": {}
  }
 ]
}