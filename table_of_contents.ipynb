{
 "metadata": {
  "name": "",
  "signature": "sha256:6f59c969b3585882edff870b27763a4631ec0463258bea4ce19025cd2e30af01"
 },
 "nbformat": 3,
 "nbformat_minor": 0,
 "worksheets": [
  {
   "cells": [
    {
     "cell_type": "heading",
     "level": 1,
     "metadata": {},
     "source": [
      "Social Networks: Theory and Applications"
     ]
    },
    {
     "cell_type": "heading",
     "level": 3,
     "metadata": {},
     "source": [
      "Table of Contents:"
     ]
    },
    {
     "cell_type": "heading",
     "level": 4,
     "metadata": {},
     "source": [
      "[0. Setting up your environment](http://nbviewer.ipython.org/github/shestakoff/social_ntwks/blob/master/setting_envrmt.ipynb)"
     ]
    }
   ],
   "metadata": {}
  }
 ]
}