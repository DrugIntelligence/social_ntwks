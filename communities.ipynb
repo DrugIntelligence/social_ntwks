{
 "metadata": {
  "name": "",
  "signature": "sha256:a9dc5cd56283b37f21cc505a586cdc1b0db2cf8edd293ee8c15295c29e7162b0"
 },
 "nbformat": 3,
 "nbformat_minor": 0,
 "worksheets": [
  {
   "cells": [
    {
     "cell_type": "heading",
     "level": 1,
     "metadata": {},
     "source": [
      "Community detection algorithms"
     ]
    },
    {
     "cell_type": "markdown",
     "metadata": {},
     "source": [
      "On this seminar your are asked to implement simple community detection algorightm. It is called [Markov Cluster Algorithm](http://micans.org/mcl/) (MCL).\n",
      "\n",
      "It consists of the following steps:\n",
      "<br\\>\n",
      "**Input:** Transfer matrix $T = D^{-1}A$\n",
      "<br\\>\n",
      "**Output:** Adjacency matrix $M^*$\n",
      "<br\\>\n",
      "<br\\>\n",
      "1. Set $M = T$\n",
      "2. **repeat:**\n",
      "    3. *Expansion Step:* $M = M^p$ (usually $p=2$)\n",
      "    4. *Inflation Step:* Raise every entry of $M$ to the power $\\alpha$ (usualy $\\alpha=2$)\n",
      "    5. *Renormalize:* Normalize each column by its sum\n",
      "    6. *Prunning:* Remove entries that are close to $0$\n",
      "7. **until** $M$ converges\n",
      "8. $M^* = M$\n",
      "<br\\>\n",
      "<br\\>\n",
      "\n",
      "As a result you should get a cluster matrix s.t. elements of the cluster correspont to nonzero elements of the rows of the matrix. \n",
      "<br\\>\n",
      "* What advantages and disadvantages does this method have?\n",
      "* Run this method for network [1](https://www.dropbox.com/s/so0ly2ozh2pzxp6/network1.mat?dl=0), [2](https://www.dropbox.com/s/xcswyhoeehq95v2/network2.mat?dl=0) and [3](https://www.dropbox.com/s/cwshsfr2d8fn470/network3.mat?dl=0).\n"
     ]
    },
    {
     "cell_type": "code",
     "collapsed": false,
     "input": [
      "import numpy as np\n",
      "import pandas as pd\n",
      "import matplotlib.pyplot as plt\n",
      "plt.xkcd()\n",
      "import networkx as nx\n",
      "import scipy\n",
      "%matplotlib inline"
     ],
     "language": "python",
     "metadata": {},
     "outputs": []
    },
    {
     "cell_type": "code",
     "collapsed": false,
     "input": [
      "data = scipy.io.loadmat('network1.mat')\n",
      "A = data['A'].astype('float')\n",
      "plt.spy(A)\n",
      "comm = data['Comm']\n",
      "# Continue here\n",
      "#"
     ],
     "language": "python",
     "metadata": {},
     "outputs": []
    }
   ],
   "metadata": {}
  }
 ]
}