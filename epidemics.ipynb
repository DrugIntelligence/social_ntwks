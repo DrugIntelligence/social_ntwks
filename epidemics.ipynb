{
 "metadata": {
  "name": "",
  "signature": "sha256:afee568c6fb0ab0b06d3bf7b90a41dc221baa6a432411d6a81d9535ee528105c"
 },
 "nbformat": 3,
 "nbformat_minor": 0,
 "worksheets": [
  {
   "cells": [
    {
     "cell_type": "heading",
     "level": 1,
     "metadata": {},
     "source": [
      "Epidemics"
     ]
    },
    {
     "cell_type": "markdown",
     "metadata": {},
     "source": [
      "During this seminar we will numerically solve systems of differential equations of SI, SIS and SIR models. <br\\> This experience is going to help us as we switch to network models. "
     ]
    },
    {
     "cell_type": "heading",
     "level": 2,
     "metadata": {},
     "source": [
      "SI model"
     ]
    },
    {
     "cell_type": "markdown",
     "metadata": {},
     "source": [
      "In this model a sustainable infection process is considered. Infected part of population has no chance to be healed..<br>\n",
      "In other words:\n",
      "\\begin{equation}\n",
      "   \\begin{cases}\n",
      "   \\cfrac{ds(t)}{dt} = -\\beta s(t)i(t)\\\\\n",
      "   \\cfrac{di(t)}{dt} = \\beta s(t)i(t)\n",
      "  \\end{cases}\n",
      "  \\\\\n",
      "  i(t) + s(t) = 1\n",
      "\\end{equation}"
     ]
    },
    {
     "cell_type": "code",
     "collapsed": false,
     "input": [
      "import numpy as np\n",
      "import matplotlib.pyplot as plt\n",
      "from scipy.integrate import odeint\n",
      "%matplotlib inline"
     ],
     "language": "python",
     "metadata": {},
     "outputs": []
    },
    {
     "cell_type": "code",
     "collapsed": false,
     "input": [
      "# spreading coefficient\n",
      "beta = 0.2\n",
      "\n",
      "# initial state\n",
      "i0 = 0.6\n",
      "z0 = [i0, 1-i0]\n",
      "\n",
      "# time domain\n",
      "t = np.arange(50)\n",
      "\n",
      "# system of differential equations..\n",
      "def si(z, t, beta):\n",
      "    return np.array([\n",
      "        -beta * z[0] * z[1],\n",
      "         beta * z[0] * z[1]])\n",
      "\n",
      "# solved\n",
      "z = odeint(si, z0, t, (beta,))"
     ],
     "language": "python",
     "metadata": {},
     "outputs": []
    },
    {
     "cell_type": "code",
     "collapsed": false,
     "input": [
      "# Lets plot our solution and phase-plot\n",
      "fig, ax = plt.subplots(1,2,figsize=(14,6))\n",
      "lines = ax[0].plot(z)\n",
      "plt.setp(lines[0], color='red')\n",
      "plt.setp(lines[1], color='blue')\n",
      "ax[0].set_xlabel('$t$')\n",
      "ax[0].set_ylabel('proportion')\n",
      "ax[0].legend(['$I$','$S$'])\n",
      "ax[1].plot(z[:,1], z[:,0])\n",
      "ax[1].set_xlabel('$S$')\n",
      "ax[1].set_ylabel('$I$')"
     ],
     "language": "python",
     "metadata": {},
     "outputs": [
      {
       "metadata": {},
       "output_type": "pyout",
       "prompt_number": 40,
       "text": [
        "<matplotlib.text.Text at 0x7f0abb538850>"
       ]
      },
      {
       "metadata": {},
       "output_type": "display_data",
       "png": "[encoded data removed]",
       "text": [
        "<matplotlib.figure.Figure at 0x7f0abb655550>"
       ]
      }
     ],
     "prompt_number": 40
    },
    {
     "cell_type": "markdown",
     "metadata": {},
     "source": [
      "The cool thing is that we can set $\\beta$ and $\\gamma$ to be dependent on $t$, that is interpreted as some ''sessional'' profile of the desease. <br\\>\n",
      "Now, based on this code, implement SIS and SIR models:"
     ]
    },
    {
     "cell_type": "heading",
     "level": 2,
     "metadata": {},
     "source": [
      "SIS model"
     ]
    },
    {
     "cell_type": "markdown",
     "metadata": {},
     "source": [
      "SIS model allowes infected agents to be cured, but without any further immunity.\n",
      "\\begin{equation}\n",
      "   \\begin{cases}\n",
      "   \\cfrac{ds(t)}{dt} = -\\beta s(t)i(t) + \\gamma i(t)\\\\\n",
      "   \\cfrac{di(t)}{dt} = \\beta s(t)i(t) - \\gamma i(t)\n",
      "  \\end{cases}\n",
      "  \\\\\n",
      "  i(t) + s(t) = 1\n",
      "\\end{equation}\n",
      "Implement this model and check cases when $\\gamma \\lessgtr \\beta$"
     ]
    },
    {
     "cell_type": "code",
     "collapsed": false,
     "input": [
      "# put your code here\n"
     ],
     "language": "python",
     "metadata": {},
     "outputs": [],
     "prompt_number": 41
    },
    {
     "cell_type": "heading",
     "level": 2,
     "metadata": {},
     "source": [
      "SIR model"
     ]
    },
    {
     "cell_type": "markdown",
     "metadata": {},
     "source": [
      "In SIR model healed population gain immunity to the infection\n",
      "\\begin{equation}\n",
      "   \\begin{cases}\n",
      "   \\cfrac{ds(t)}{dt} = -\\beta s(t)i(t)\\\\\n",
      "   \\cfrac{di(t)}{dt} = \\beta s(t)i(t) - \\gamma i(t)\\\\\n",
      "   \\cfrac{dr(t)}{dt} = \\gamma i(t)\n",
      "  \\end{cases}\n",
      "  \\\\\n",
      "  i(t) + s(t) + r(t) = 1\n",
      "\\end{equation}"
     ]
    },
    {
     "cell_type": "code",
     "collapsed": false,
     "input": [
      "# put your code here\n"
     ],
     "language": "python",
     "metadata": {},
     "outputs": [],
     "prompt_number": 42
    }
   ],
   "metadata": {}
  }
 ]
}